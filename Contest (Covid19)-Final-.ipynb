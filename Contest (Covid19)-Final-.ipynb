{
 "cells": [
  {
   "cell_type": "code",
   "execution_count": 2,
   "metadata": {},
   "outputs": [],
   "source": [
    "import pandas as pd\n",
    "from pandas import DataFrame,Series\n",
    "import numpy as np\n",
    "import matplotlib.pyplot as plt\n",
    "import seaborn as sns\n",
    "%matplotlib inline"
   ]
  },
  {
   "cell_type": "markdown",
   "metadata": {},
   "source": [
    "#### TRAINING DATA:"
   ]
  },
  {
   "cell_type": "code",
   "execution_count": 3,
   "metadata": {
    "scrolled": false
   },
   "outputs": [
    {
     "data": {
      "text/html": [
       "<div>\n",
       "<style scoped>\n",
       "    .dataframe tbody tr th:only-of-type {\n",
       "        vertical-align: middle;\n",
       "    }\n",
       "\n",
       "    .dataframe tbody tr th {\n",
       "        vertical-align: top;\n",
       "    }\n",
       "\n",
       "    .dataframe thead th {\n",
       "        text-align: right;\n",
       "    }\n",
       "</style>\n",
       "<table border=\"1\" class=\"dataframe\">\n",
       "  <thead>\n",
       "    <tr style=\"text-align: right;\">\n",
       "      <th></th>\n",
       "      <th>case_id</th>\n",
       "      <th>Hospital_code</th>\n",
       "      <th>Hospital_type_code</th>\n",
       "      <th>City_Code_Hospital</th>\n",
       "      <th>Hospital_region_code</th>\n",
       "      <th>Available Extra Rooms in Hospital</th>\n",
       "      <th>Department</th>\n",
       "      <th>Ward_Type</th>\n",
       "      <th>Ward_Facility_Code</th>\n",
       "      <th>Bed Grade</th>\n",
       "      <th>patientid</th>\n",
       "      <th>City_Code_Patient</th>\n",
       "      <th>Type of Admission</th>\n",
       "      <th>Severity of Illness</th>\n",
       "      <th>Visitors with Patient</th>\n",
       "      <th>Age</th>\n",
       "      <th>Admission_Deposit</th>\n",
       "      <th>Stay</th>\n",
       "    </tr>\n",
       "  </thead>\n",
       "  <tbody>\n",
       "    <tr>\n",
       "      <th>0</th>\n",
       "      <td>1</td>\n",
       "      <td>8</td>\n",
       "      <td>c</td>\n",
       "      <td>3</td>\n",
       "      <td>Z</td>\n",
       "      <td>3</td>\n",
       "      <td>radiotherapy</td>\n",
       "      <td>R</td>\n",
       "      <td>F</td>\n",
       "      <td>2.0</td>\n",
       "      <td>31397</td>\n",
       "      <td>7.0</td>\n",
       "      <td>Emergency</td>\n",
       "      <td>Extreme</td>\n",
       "      <td>2</td>\n",
       "      <td>51-60</td>\n",
       "      <td>4911.0</td>\n",
       "      <td>0-10</td>\n",
       "    </tr>\n",
       "    <tr>\n",
       "      <th>1</th>\n",
       "      <td>2</td>\n",
       "      <td>2</td>\n",
       "      <td>c</td>\n",
       "      <td>5</td>\n",
       "      <td>Z</td>\n",
       "      <td>2</td>\n",
       "      <td>radiotherapy</td>\n",
       "      <td>S</td>\n",
       "      <td>F</td>\n",
       "      <td>2.0</td>\n",
       "      <td>31397</td>\n",
       "      <td>7.0</td>\n",
       "      <td>Trauma</td>\n",
       "      <td>Extreme</td>\n",
       "      <td>2</td>\n",
       "      <td>51-60</td>\n",
       "      <td>5954.0</td>\n",
       "      <td>41-50</td>\n",
       "    </tr>\n",
       "    <tr>\n",
       "      <th>2</th>\n",
       "      <td>3</td>\n",
       "      <td>10</td>\n",
       "      <td>e</td>\n",
       "      <td>1</td>\n",
       "      <td>X</td>\n",
       "      <td>2</td>\n",
       "      <td>anesthesia</td>\n",
       "      <td>S</td>\n",
       "      <td>E</td>\n",
       "      <td>2.0</td>\n",
       "      <td>31397</td>\n",
       "      <td>7.0</td>\n",
       "      <td>Trauma</td>\n",
       "      <td>Extreme</td>\n",
       "      <td>2</td>\n",
       "      <td>51-60</td>\n",
       "      <td>4745.0</td>\n",
       "      <td>31-40</td>\n",
       "    </tr>\n",
       "  </tbody>\n",
       "</table>\n",
       "</div>"
      ],
      "text/plain": [
       "   case_id  Hospital_code Hospital_type_code  City_Code_Hospital  \\\n",
       "0        1              8                  c                   3   \n",
       "1        2              2                  c                   5   \n",
       "2        3             10                  e                   1   \n",
       "\n",
       "  Hospital_region_code  Available Extra Rooms in Hospital    Department  \\\n",
       "0                    Z                                  3  radiotherapy   \n",
       "1                    Z                                  2  radiotherapy   \n",
       "2                    X                                  2    anesthesia   \n",
       "\n",
       "  Ward_Type Ward_Facility_Code  Bed Grade  patientid  City_Code_Patient  \\\n",
       "0         R                  F        2.0      31397                7.0   \n",
       "1         S                  F        2.0      31397                7.0   \n",
       "2         S                  E        2.0      31397                7.0   \n",
       "\n",
       "  Type of Admission Severity of Illness  Visitors with Patient    Age  \\\n",
       "0         Emergency             Extreme                      2  51-60   \n",
       "1            Trauma             Extreme                      2  51-60   \n",
       "2            Trauma             Extreme                      2  51-60   \n",
       "\n",
       "   Admission_Deposit   Stay  \n",
       "0             4911.0   0-10  \n",
       "1             5954.0  41-50  \n",
       "2             4745.0  31-40  "
      ]
     },
     "execution_count": 3,
     "metadata": {},
     "output_type": "execute_result"
    }
   ],
   "source": [
    "X=pd.read_csv('train.csv')\n",
    "X.head(3)"
   ]
  },
  {
   "cell_type": "code",
   "execution_count": 4,
   "metadata": {},
   "outputs": [
    {
     "data": {
      "text/plain": [
       "(318438, 18)"
      ]
     },
     "execution_count": 4,
     "metadata": {},
     "output_type": "execute_result"
    }
   ],
   "source": [
    "X.shape"
   ]
  },
  {
   "cell_type": "code",
   "execution_count": 5,
   "metadata": {},
   "outputs": [
    {
     "name": "stdout",
     "output_type": "stream",
     "text": [
      "<class 'pandas.core.frame.DataFrame'>\n",
      "RangeIndex: 318438 entries, 0 to 318437\n",
      "Data columns (total 18 columns):\n",
      "case_id                              318438 non-null int64\n",
      "Hospital_code                        318438 non-null int64\n",
      "Hospital_type_code                   318438 non-null object\n",
      "City_Code_Hospital                   318438 non-null int64\n",
      "Hospital_region_code                 318438 non-null object\n",
      "Available Extra Rooms in Hospital    318438 non-null int64\n",
      "Department                           318438 non-null object\n",
      "Ward_Type                            318438 non-null object\n",
      "Ward_Facility_Code                   318438 non-null object\n",
      "Bed Grade                            318325 non-null float64\n",
      "patientid                            318438 non-null int64\n",
      "City_Code_Patient                    313906 non-null float64\n",
      "Type of Admission                    318438 non-null object\n",
      "Severity of Illness                  318438 non-null object\n",
      "Visitors with Patient                318438 non-null int64\n",
      "Age                                  318438 non-null object\n",
      "Admission_Deposit                    318438 non-null float64\n",
      "Stay                                 318438 non-null object\n",
      "dtypes: float64(3), int64(6), object(9)\n",
      "memory usage: 43.7+ MB\n"
     ]
    }
   ],
   "source": [
    "X.info()"
   ]
  },
  {
   "cell_type": "code",
   "execution_count": 6,
   "metadata": {
    "scrolled": true
   },
   "outputs": [
    {
     "data": {
      "text/plain": [
       "case_id                                 0\n",
       "Hospital_code                           0\n",
       "Hospital_type_code                      0\n",
       "City_Code_Hospital                      0\n",
       "Hospital_region_code                    0\n",
       "Available Extra Rooms in Hospital       0\n",
       "Department                              0\n",
       "Ward_Type                               0\n",
       "Ward_Facility_Code                      0\n",
       "Bed Grade                             113\n",
       "patientid                               0\n",
       "City_Code_Patient                    4532\n",
       "Type of Admission                       0\n",
       "Severity of Illness                     0\n",
       "Visitors with Patient                   0\n",
       "Age                                     0\n",
       "Admission_Deposit                       0\n",
       "Stay                                    0\n",
       "dtype: int64"
      ]
     },
     "execution_count": 6,
     "metadata": {},
     "output_type": "execute_result"
    }
   ],
   "source": [
    "X.isnull().sum()"
   ]
  },
  {
   "cell_type": "markdown",
   "metadata": {},
   "source": [
    "#### TESTING DATA:"
   ]
  },
  {
   "cell_type": "code",
   "execution_count": 7,
   "metadata": {
    "scrolled": false
   },
   "outputs": [
    {
     "data": {
      "text/html": [
       "<div>\n",
       "<style scoped>\n",
       "    .dataframe tbody tr th:only-of-type {\n",
       "        vertical-align: middle;\n",
       "    }\n",
       "\n",
       "    .dataframe tbody tr th {\n",
       "        vertical-align: top;\n",
       "    }\n",
       "\n",
       "    .dataframe thead th {\n",
       "        text-align: right;\n",
       "    }\n",
       "</style>\n",
       "<table border=\"1\" class=\"dataframe\">\n",
       "  <thead>\n",
       "    <tr style=\"text-align: right;\">\n",
       "      <th></th>\n",
       "      <th>case_id</th>\n",
       "      <th>Hospital_code</th>\n",
       "      <th>Hospital_type_code</th>\n",
       "      <th>City_Code_Hospital</th>\n",
       "      <th>Hospital_region_code</th>\n",
       "      <th>Available Extra Rooms in Hospital</th>\n",
       "      <th>Department</th>\n",
       "      <th>Ward_Type</th>\n",
       "      <th>Ward_Facility_Code</th>\n",
       "      <th>Bed Grade</th>\n",
       "      <th>patientid</th>\n",
       "      <th>City_Code_Patient</th>\n",
       "      <th>Type of Admission</th>\n",
       "      <th>Severity of Illness</th>\n",
       "      <th>Visitors with Patient</th>\n",
       "      <th>Age</th>\n",
       "      <th>Admission_Deposit</th>\n",
       "    </tr>\n",
       "  </thead>\n",
       "  <tbody>\n",
       "    <tr>\n",
       "      <th>137054</th>\n",
       "      <td>455493</td>\n",
       "      <td>30</td>\n",
       "      <td>c</td>\n",
       "      <td>3</td>\n",
       "      <td>Z</td>\n",
       "      <td>2</td>\n",
       "      <td>anesthesia</td>\n",
       "      <td>R</td>\n",
       "      <td>A</td>\n",
       "      <td>4.0</td>\n",
       "      <td>81811</td>\n",
       "      <td>12.0</td>\n",
       "      <td>Urgent</td>\n",
       "      <td>Minor</td>\n",
       "      <td>2</td>\n",
       "      <td>0-10</td>\n",
       "      <td>7190.0</td>\n",
       "    </tr>\n",
       "    <tr>\n",
       "      <th>137055</th>\n",
       "      <td>455494</td>\n",
       "      <td>5</td>\n",
       "      <td>a</td>\n",
       "      <td>1</td>\n",
       "      <td>X</td>\n",
       "      <td>2</td>\n",
       "      <td>anesthesia</td>\n",
       "      <td>R</td>\n",
       "      <td>E</td>\n",
       "      <td>4.0</td>\n",
       "      <td>57021</td>\n",
       "      <td>10.0</td>\n",
       "      <td>Trauma</td>\n",
       "      <td>Minor</td>\n",
       "      <td>2</td>\n",
       "      <td>41-50</td>\n",
       "      <td>5435.0</td>\n",
       "    </tr>\n",
       "    <tr>\n",
       "      <th>137056</th>\n",
       "      <td>455495</td>\n",
       "      <td>6</td>\n",
       "      <td>a</td>\n",
       "      <td>6</td>\n",
       "      <td>X</td>\n",
       "      <td>3</td>\n",
       "      <td>gynecology</td>\n",
       "      <td>Q</td>\n",
       "      <td>F</td>\n",
       "      <td>4.0</td>\n",
       "      <td>126729</td>\n",
       "      <td>3.0</td>\n",
       "      <td>Trauma</td>\n",
       "      <td>Extreme</td>\n",
       "      <td>5</td>\n",
       "      <td>51-60</td>\n",
       "      <td>4702.0</td>\n",
       "    </tr>\n",
       "  </tbody>\n",
       "</table>\n",
       "</div>"
      ],
      "text/plain": [
       "        case_id  Hospital_code Hospital_type_code  City_Code_Hospital  \\\n",
       "137054   455493             30                  c                   3   \n",
       "137055   455494              5                  a                   1   \n",
       "137056   455495              6                  a                   6   \n",
       "\n",
       "       Hospital_region_code  Available Extra Rooms in Hospital  Department  \\\n",
       "137054                    Z                                  2  anesthesia   \n",
       "137055                    X                                  2  anesthesia   \n",
       "137056                    X                                  3  gynecology   \n",
       "\n",
       "       Ward_Type Ward_Facility_Code  Bed Grade  patientid  City_Code_Patient  \\\n",
       "137054         R                  A        4.0      81811               12.0   \n",
       "137055         R                  E        4.0      57021               10.0   \n",
       "137056         Q                  F        4.0     126729                3.0   \n",
       "\n",
       "       Type of Admission Severity of Illness  Visitors with Patient    Age  \\\n",
       "137054            Urgent               Minor                      2   0-10   \n",
       "137055            Trauma               Minor                      2  41-50   \n",
       "137056            Trauma             Extreme                      5  51-60   \n",
       "\n",
       "        Admission_Deposit  \n",
       "137054             7190.0  \n",
       "137055             5435.0  \n",
       "137056             4702.0  "
      ]
     },
     "execution_count": 7,
     "metadata": {},
     "output_type": "execute_result"
    }
   ],
   "source": [
    "X1=pd.read_csv('test.csv')\n",
    "X1.tail(3)"
   ]
  },
  {
   "cell_type": "code",
   "execution_count": 8,
   "metadata": {},
   "outputs": [
    {
     "data": {
      "text/plain": [
       "(137057, 17)"
      ]
     },
     "execution_count": 8,
     "metadata": {},
     "output_type": "execute_result"
    }
   ],
   "source": [
    "X1.shape"
   ]
  },
  {
   "cell_type": "code",
   "execution_count": 9,
   "metadata": {},
   "outputs": [
    {
     "name": "stdout",
     "output_type": "stream",
     "text": [
      "<class 'pandas.core.frame.DataFrame'>\n",
      "RangeIndex: 137057 entries, 0 to 137056\n",
      "Data columns (total 17 columns):\n",
      "case_id                              137057 non-null int64\n",
      "Hospital_code                        137057 non-null int64\n",
      "Hospital_type_code                   137057 non-null object\n",
      "City_Code_Hospital                   137057 non-null int64\n",
      "Hospital_region_code                 137057 non-null object\n",
      "Available Extra Rooms in Hospital    137057 non-null int64\n",
      "Department                           137057 non-null object\n",
      "Ward_Type                            137057 non-null object\n",
      "Ward_Facility_Code                   137057 non-null object\n",
      "Bed Grade                            137022 non-null float64\n",
      "patientid                            137057 non-null int64\n",
      "City_Code_Patient                    134900 non-null float64\n",
      "Type of Admission                    137057 non-null object\n",
      "Severity of Illness                  137057 non-null object\n",
      "Visitors with Patient                137057 non-null int64\n",
      "Age                                  137057 non-null object\n",
      "Admission_Deposit                    137057 non-null float64\n",
      "dtypes: float64(3), int64(6), object(8)\n",
      "memory usage: 17.8+ MB\n"
     ]
    }
   ],
   "source": [
    "X1.info()"
   ]
  },
  {
   "cell_type": "code",
   "execution_count": 10,
   "metadata": {
    "scrolled": true
   },
   "outputs": [
    {
     "data": {
      "text/plain": [
       "case_id                                 0\n",
       "Hospital_code                           0\n",
       "Hospital_type_code                      0\n",
       "City_Code_Hospital                      0\n",
       "Hospital_region_code                    0\n",
       "Available Extra Rooms in Hospital       0\n",
       "Department                              0\n",
       "Ward_Type                               0\n",
       "Ward_Facility_Code                      0\n",
       "Bed Grade                              35\n",
       "patientid                               0\n",
       "City_Code_Patient                    2157\n",
       "Type of Admission                       0\n",
       "Severity of Illness                     0\n",
       "Visitors with Patient                   0\n",
       "Age                                     0\n",
       "Admission_Deposit                       0\n",
       "dtype: int64"
      ]
     },
     "execution_count": 10,
     "metadata": {},
     "output_type": "execute_result"
    }
   ],
   "source": [
    "X1.isnull().sum()"
   ]
  },
  {
   "cell_type": "markdown",
   "metadata": {},
   "source": [
    "#### Data Given Info:"
   ]
  },
  {
   "cell_type": "code",
   "execution_count": 11,
   "metadata": {
    "scrolled": false
   },
   "outputs": [
    {
     "data": {
      "text/html": [
       "<div>\n",
       "<style scoped>\n",
       "    .dataframe tbody tr th:only-of-type {\n",
       "        vertical-align: middle;\n",
       "    }\n",
       "\n",
       "    .dataframe tbody tr th {\n",
       "        vertical-align: top;\n",
       "    }\n",
       "\n",
       "    .dataframe thead th {\n",
       "        text-align: right;\n",
       "    }\n",
       "</style>\n",
       "<table border=\"1\" class=\"dataframe\">\n",
       "  <thead>\n",
       "    <tr style=\"text-align: right;\">\n",
       "      <th></th>\n",
       "      <th>Column</th>\n",
       "      <th>Description</th>\n",
       "    </tr>\n",
       "  </thead>\n",
       "  <tbody>\n",
       "    <tr>\n",
       "      <th>0</th>\n",
       "      <td>case_id</td>\n",
       "      <td>Case_ID registered in Hospital</td>\n",
       "    </tr>\n",
       "    <tr>\n",
       "      <th>1</th>\n",
       "      <td>Hospital_code</td>\n",
       "      <td>Unique code for the Hospital</td>\n",
       "    </tr>\n",
       "    <tr>\n",
       "      <th>2</th>\n",
       "      <td>Hospital_type_code</td>\n",
       "      <td>Unique code for the type of Hospital</td>\n",
       "    </tr>\n",
       "    <tr>\n",
       "      <th>3</th>\n",
       "      <td>City_Code_Hospital</td>\n",
       "      <td>City Code of the Hospital</td>\n",
       "    </tr>\n",
       "    <tr>\n",
       "      <th>4</th>\n",
       "      <td>Hospital_region_code</td>\n",
       "      <td>Region Code of the Hospital</td>\n",
       "    </tr>\n",
       "    <tr>\n",
       "      <th>5</th>\n",
       "      <td>Available Extra Rooms in Hospital</td>\n",
       "      <td>Number of Extra rooms available in the Hospital</td>\n",
       "    </tr>\n",
       "    <tr>\n",
       "      <th>6</th>\n",
       "      <td>Department</td>\n",
       "      <td>Department overlooking the case</td>\n",
       "    </tr>\n",
       "    <tr>\n",
       "      <th>7</th>\n",
       "      <td>Ward_Type</td>\n",
       "      <td>Code for the Ward type</td>\n",
       "    </tr>\n",
       "    <tr>\n",
       "      <th>8</th>\n",
       "      <td>Ward_Facility_Code</td>\n",
       "      <td>Code for the Ward Facility</td>\n",
       "    </tr>\n",
       "    <tr>\n",
       "      <th>9</th>\n",
       "      <td>Bed Grade</td>\n",
       "      <td>Condition of Bed in the Ward</td>\n",
       "    </tr>\n",
       "    <tr>\n",
       "      <th>10</th>\n",
       "      <td>patientid</td>\n",
       "      <td>Unique Patient Id</td>\n",
       "    </tr>\n",
       "    <tr>\n",
       "      <th>11</th>\n",
       "      <td>City_Code_Patient</td>\n",
       "      <td>City Code for the patient</td>\n",
       "    </tr>\n",
       "    <tr>\n",
       "      <th>12</th>\n",
       "      <td>Type of Admission</td>\n",
       "      <td>Admission Type registered by the Hospital</td>\n",
       "    </tr>\n",
       "    <tr>\n",
       "      <th>13</th>\n",
       "      <td>Severity of Illness</td>\n",
       "      <td>Severity of the illness recorded at the time o...</td>\n",
       "    </tr>\n",
       "    <tr>\n",
       "      <th>14</th>\n",
       "      <td>Visitors with Patient</td>\n",
       "      <td>Number of Visitors with the patient</td>\n",
       "    </tr>\n",
       "    <tr>\n",
       "      <th>15</th>\n",
       "      <td>Age</td>\n",
       "      <td>Age of the patient</td>\n",
       "    </tr>\n",
       "    <tr>\n",
       "      <th>16</th>\n",
       "      <td>Admission_Deposit</td>\n",
       "      <td>Deposit at the Admission Time</td>\n",
       "    </tr>\n",
       "    <tr>\n",
       "      <th>17</th>\n",
       "      <td>Stay</td>\n",
       "      <td>Stay Days by the patient</td>\n",
       "    </tr>\n",
       "  </tbody>\n",
       "</table>\n",
       "</div>"
      ],
      "text/plain": [
       "                               Column  \\\n",
       "0                             case_id   \n",
       "1                       Hospital_code   \n",
       "2                  Hospital_type_code   \n",
       "3                  City_Code_Hospital   \n",
       "4                Hospital_region_code   \n",
       "5   Available Extra Rooms in Hospital   \n",
       "6                          Department   \n",
       "7                           Ward_Type   \n",
       "8                  Ward_Facility_Code   \n",
       "9                           Bed Grade   \n",
       "10                          patientid   \n",
       "11                  City_Code_Patient   \n",
       "12                  Type of Admission   \n",
       "13                Severity of Illness   \n",
       "14              Visitors with Patient   \n",
       "15                                Age   \n",
       "16                  Admission_Deposit   \n",
       "17                               Stay   \n",
       "\n",
       "                                          Description  \n",
       "0                      Case_ID registered in Hospital  \n",
       "1                        Unique code for the Hospital  \n",
       "2                Unique code for the type of Hospital  \n",
       "3                           City Code of the Hospital  \n",
       "4                         Region Code of the Hospital  \n",
       "5     Number of Extra rooms available in the Hospital  \n",
       "6                     Department overlooking the case  \n",
       "7                              Code for the Ward type  \n",
       "8                          Code for the Ward Facility  \n",
       "9                        Condition of Bed in the Ward  \n",
       "10                                  Unique Patient Id  \n",
       "11                          City Code for the patient  \n",
       "12          Admission Type registered by the Hospital  \n",
       "13  Severity of the illness recorded at the time o...  \n",
       "14                Number of Visitors with the patient  \n",
       "15                                 Age of the patient  \n",
       "16                      Deposit at the Admission Time  \n",
       "17                           Stay Days by the patient  "
      ]
     },
     "execution_count": 11,
     "metadata": {},
     "output_type": "execute_result"
    }
   ],
   "source": [
    "info=pd.read_csv('train_data_dict.csv')\n",
    "info"
   ]
  },
  {
   "cell_type": "code",
   "execution_count": 12,
   "metadata": {},
   "outputs": [
    {
     "data": {
      "text/plain": [
       "Index(['case_id', 'Hospital_code', 'Hospital_type_code', 'City_Code_Hospital',\n",
       "       'Hospital_region_code', 'Available Extra Rooms in Hospital',\n",
       "       'Department', 'Ward_Type', 'Ward_Facility_Code', 'Bed Grade',\n",
       "       'patientid', 'City_Code_Patient', 'Type of Admission',\n",
       "       'Severity of Illness', 'Visitors with Patient', 'Age',\n",
       "       'Admission_Deposit', 'Stay'],\n",
       "      dtype='object')"
      ]
     },
     "execution_count": 12,
     "metadata": {},
     "output_type": "execute_result"
    }
   ],
   "source": [
    "X.columns"
   ]
  },
  {
   "cell_type": "markdown",
   "metadata": {},
   "source": [
    "### EDA : Univariant"
   ]
  },
  {
   "cell_type": "code",
   "execution_count": 30,
   "metadata": {},
   "outputs": [],
   "source": [
    "def countc(col):\n",
    "    plt.figure(figsize=(13,5))\n",
    "    sns.countplot(X[col].dropna(),palette='Greens')\n",
    "    plt.title('Count of'+col)\n",
    "    plt.show()\n",
    "    \n",
    "    print('Value Distribution of',col)\n",
    "    print(X[col].value_counts())\n",
    "    print('')\n",
    "    print('1. From the above info. we can observe that',col,X[col].value_counts().index[0],'has the highest count')\n",
    "    print('2. While',col,X[col].value_counts().sort_values(ascending=True).index[0],'has the lowest count')\n",
    "    print('---------------------------------------------------------------------------------------------------')\n",
    "     "
   ]
  },
  {
   "cell_type": "code",
   "execution_count": 31,
   "metadata": {
    "scrolled": false
   },
   "outputs": [
    {
     "data": {
      "image/png": "[encoded data removed]",
      "text/plain": [
       "<Figure size 936x360 with 1 Axes>"
      ]
     },
     "metadata": {
      "needs_background": "light"
     },
     "output_type": "display_data"
    },
    {
     "name": "stdout",
     "output_type": "stream",
     "text": [
      "Value Distribution of Stay\n",
      "21-30                 87491\n",
      "11-20                 78139\n",
      "31-40                 55159\n",
      "51-60                 35018\n",
      "0-10                  23604\n",
      "41-50                 11743\n",
      "71-80                 10254\n",
      "More than 100 Days     6683\n",
      "81-90                  4838\n",
      "91-100                 2765\n",
      "61-70                  2744\n",
      "Name: Stay, dtype: int64\n",
      "\n",
      "1. From the above info. we can observe that Stay 21-30 has the highest count\n",
      "2. While Stay 61-70 has the lowest count\n",
      "---------------------------------------------------------------------------------------------------\n"
     ]
    },
    {
     "data": {
      "image/png": "[encoded data removed]",
      "text/plain": [
       "<Figure size 936x360 with 1 Axes>"
      ]
     },
     "metadata": {
      "needs_background": "light"
     },
     "output_type": "display_data"
    },
    {
     "name": "stdout",
     "output_type": "stream",
     "text": [
      "Value Distribution of Age\n",
      "41-50     63749\n",
      "31-40     63639\n",
      "51-60     48514\n",
      "21-30     40843\n",
      "71-80     35792\n",
      "61-70     33687\n",
      "11-20     16768\n",
      "81-90      7890\n",
      "0-10       6254\n",
      "91-100     1302\n",
      "Name: Age, dtype: int64\n",
      "\n",
      "1. From the above info. we can observe that Age 41-50 has the highest count\n",
      "2. While Age 91-100 has the lowest count\n",
      "---------------------------------------------------------------------------------------------------\n"
     ]
    },
    {
     "data": {
      "image/png": "[encoded data removed]",
      "text/plain": [
       "<Figure size 936x360 with 1 Axes>"
      ]
     },
     "metadata": {
      "needs_background": "light"
     },
     "output_type": "display_data"
    },
    {
     "name": "stdout",
     "output_type": "stream",
     "text": [
      "Value Distribution of Severity of Illness\n",
      "Moderate    175843\n",
      "Minor        85872\n",
      "Extreme      56723\n",
      "Name: Severity of Illness, dtype: int64\n",
      "\n",
      "1. From the above info. we can observe that Severity of Illness Moderate has the highest count\n",
      "2. While Severity of Illness Extreme has the lowest count\n",
      "---------------------------------------------------------------------------------------------------\n"
     ]
    },
    {
     "data": {
      "image/png": "[encoded data removed]",
      "text/plain": [
       "<Figure size 936x360 with 1 Axes>"
      ]
     },
     "metadata": {
      "needs_background": "light"
     },
     "output_type": "display_data"
    },
    {
     "name": "stdout",
     "output_type": "stream",
     "text": [
      "Value Distribution of Type of Admission\n",
      "Trauma       152261\n",
      "Emergency    117676\n",
      "Urgent        48501\n",
      "Name: Type of Admission, dtype: int64\n",
      "\n",
      "1. From the above info. we can observe that Type of Admission Trauma has the highest count\n",
      "2. While Type of Admission Urgent has the lowest count\n",
      "---------------------------------------------------------------------------------------------------\n"
     ]
    },
    {
     "data": {
      "image/png": "[encoded data removed]",
      "text/plain": [
       "<Figure size 936x360 with 1 Axes>"
      ]
     },
     "metadata": {
      "needs_background": "light"
     },
     "output_type": "display_data"
    },
    {
     "name": "stdout",
     "output_type": "stream",
     "text": [
      "Value Distribution of City_Code_Patient\n",
      "8.0     124011\n",
      "2.0      38869\n",
      "1.0      26377\n",
      "7.0      23807\n",
      "5.0      20079\n",
      "4.0      15380\n",
      "9.0      11795\n",
      "15.0      8950\n",
      "10.0      8174\n",
      "6.0       6005\n",
      "12.0      5647\n",
      "3.0       3772\n",
      "23.0      3698\n",
      "14.0      2927\n",
      "16.0      2254\n",
      "13.0      1625\n",
      "21.0      1602\n",
      "20.0      1409\n",
      "18.0      1404\n",
      "19.0      1028\n",
      "26.0      1023\n",
      "25.0       798\n",
      "27.0       771\n",
      "11.0       658\n",
      "28.0       521\n",
      "22.0       405\n",
      "24.0       360\n",
      "30.0       133\n",
      "29.0        98\n",
      "33.0        78\n",
      "31.0        59\n",
      "37.0        57\n",
      "32.0        52\n",
      "34.0        46\n",
      "35.0        16\n",
      "36.0        12\n",
      "38.0         6\n",
      "Name: City_Code_Patient, dtype: int64\n",
      "\n",
      "1. From the above info. we can observe that City_Code_Patient 8.0 has the highest count\n",
      "2. While City_Code_Patient 38.0 has the lowest count\n",
      "---------------------------------------------------------------------------------------------------\n"
     ]
    },
    {
     "data": {
      "image/png": "[encoded data removed]",
      "text/plain": [
       "<Figure size 936x360 with 1 Axes>"
      ]
     },
     "metadata": {
      "needs_background": "light"
     },
     "output_type": "display_data"
    },
    {
     "name": "stdout",
     "output_type": "stream",
     "text": [
      "Value Distribution of City_Code_Hospital\n",
      "1     55351\n",
      "2     51809\n",
      "6     46991\n",
      "7     35463\n",
      "3     31569\n",
      "5     31105\n",
      "9     26277\n",
      "11    17137\n",
      "4     13857\n",
      "10     5249\n",
      "13     3630\n",
      "Name: City_Code_Hospital, dtype: int64\n",
      "\n",
      "1. From the above info. we can observe that City_Code_Hospital 1 has the highest count\n",
      "2. While City_Code_Hospital 13 has the lowest count\n",
      "---------------------------------------------------------------------------------------------------\n"
     ]
    },
    {
     "data": {
      "image/png": "[encoded data removed]",
      "text/plain": [
       "<Figure size 936x360 with 1 Axes>"
      ]
     },
     "metadata": {
      "needs_background": "light"
     },
     "output_type": "display_data"
    },
    {
     "name": "stdout",
     "output_type": "stream",
     "text": [
      "Value Distribution of Bed Grade\n",
      "2.0    123671\n",
      "3.0    110583\n",
      "4.0     57566\n",
      "1.0     26505\n",
      "Name: Bed Grade, dtype: int64\n",
      "\n",
      "1. From the above info. we can observe that Bed Grade 2.0 has the highest count\n",
      "2. While Bed Grade 1.0 has the lowest count\n",
      "---------------------------------------------------------------------------------------------------\n"
     ]
    },
    {
     "data": {
      "image/png": "[encoded data removed]",
      "text/plain": [
       "<Figure size 936x360 with 1 Axes>"
      ]
     },
     "metadata": {
      "needs_background": "light"
     },
     "output_type": "display_data"
    },
    {
     "name": "stdout",
     "output_type": "stream",
     "text": [
      "Value Distribution of Department\n",
      "gynecology            249486\n",
      "anesthesia             29649\n",
      "radiotherapy           28516\n",
      "TB & Chest disease      9586\n",
      "surgery                 1201\n",
      "Name: Department, dtype: int64\n",
      "\n",
      "1. From the above info. we can observe that Department gynecology has the highest count\n",
      "2. While Department surgery has the lowest count\n",
      "---------------------------------------------------------------------------------------------------\n"
     ]
    },
    {
     "data": {
      "image/png": "[encoded data removed]",
      "text/plain": [
       "<Figure size 936x360 with 1 Axes>"
      ]
     },
     "metadata": {
      "needs_background": "light"
     },
     "output_type": "display_data"
    },
    {
     "name": "stdout",
     "output_type": "stream",
     "text": [
      "Value Distribution of Hospital_region_code\n",
      "X    133336\n",
      "Y    122428\n",
      "Z     62674\n",
      "Name: Hospital_region_code, dtype: int64\n",
      "\n",
      "1. From the above info. we can observe that Hospital_region_code X has the highest count\n",
      "2. While Hospital_region_code Z has the lowest count\n",
      "---------------------------------------------------------------------------------------------------\n"
     ]
    },
    {
     "data": {
      "image/png": "[encoded data removed]",
      "text/plain": [
       "<Figure size 936x360 with 1 Axes>"
      ]
     },
     "metadata": {
      "needs_background": "light"
     },
     "output_type": "display_data"
    },
    {
     "name": "stdout",
     "output_type": "stream",
     "text": [
      "Value Distribution of Hospital_code\n",
      "26    33076\n",
      "23    26566\n",
      "19    21219\n",
      "6     20425\n",
      "11    17328\n",
      "14    17328\n",
      "28    17137\n",
      "27    14244\n",
      "9     11510\n",
      "29    11311\n",
      "12    11297\n",
      "32    10703\n",
      "25     9834\n",
      "10     9435\n",
      "15     9257\n",
      "21     8150\n",
      "24     7992\n",
      "3      7116\n",
      "17     5501\n",
      "5      5261\n",
      "1      5249\n",
      "13     5236\n",
      "2      5102\n",
      "30     5002\n",
      "22     4277\n",
      "31     3967\n",
      "16     3671\n",
      "8      3663\n",
      "18     3630\n",
      "20     1405\n",
      "7      1306\n",
      "4      1240\n",
      "Name: Hospital_code, dtype: int64\n",
      "\n",
      "1. From the above info. we can observe that Hospital_code 26 has the highest count\n",
      "2. While Hospital_code 4 has the lowest count\n",
      "---------------------------------------------------------------------------------------------------\n"
     ]
    }
   ],
   "source": [
    "cols=['Stay','Age','Severity of Illness','Type of Admission','City_Code_Patient','City_Code_Hospital',\n",
    "      'Bed Grade','Department','Hospital_region_code','Hospital_code']\n",
    "for i in cols:\n",
    "    countc(i)    "
   ]
  },
  {
   "cell_type": "markdown",
   "metadata": {},
   "source": [
    "#### Bivariant wrt Target:"
   ]
  },
  {
   "cell_type": "markdown",
   "metadata": {},
   "source": [
    "* Hypothesis:\n",
    "* Higher severity of illness should increase the length of stay\n",
    "* Type of Addmission should affect the length of stay\n",
    "* ward type should affect the length of stay\n",
    "* ward facility should affect the length of stay\n",
    "* hospital type code should affect the length."
   ]
  },
  {
   "cell_type": "code",
   "execution_count": 75,
   "metadata": {
    "scrolled": false
   },
   "outputs": [
    {
     "data": {
      "image/png": "[encoded data removed]",
      "text/plain": [
       "<Figure size 1080x360 with 1 Axes>"
      ]
     },
     "metadata": {
      "needs_background": "light"
     },
     "output_type": "display_data"
    }
   ],
   "source": [
    "plt.figure(figsize=(15,5))\n",
    "sns.countplot(x='Stay',hue='Severity of Illness',data=X,palette='Greens')\n",
    "plt.show()"
   ]
  },
  {
   "cell_type": "code",
   "execution_count": 76,
   "metadata": {},
   "outputs": [
    {
     "data": {
      "image/png": "[encoded data removed]",
      "text/plain": [
       "<Figure size 1080x360 with 1 Axes>"
      ]
     },
     "metadata": {
      "needs_background": "light"
     },
     "output_type": "display_data"
    }
   ],
   "source": [
    "plt.figure(figsize=(15,5))\n",
    "sns.countplot(x='Stay',hue='Type of Admission',data=X,palette='Greens')\n",
    "plt.show()"
   ]
  },
  {
   "cell_type": "code",
   "execution_count": 77,
   "metadata": {},
   "outputs": [
    {
     "data": {
      "image/png": "[encoded data removed]",
      "text/plain": [
       "<Figure size 1080x360 with 1 Axes>"
      ]
     },
     "metadata": {
      "needs_background": "light"
     },
     "output_type": "display_data"
    }
   ],
   "source": [
    "plt.figure(figsize=(15,5))\n",
    "sns.countplot(x='Stay',hue='Bed Grade',data=X,palette='Greens')\n",
    "plt.show()"
   ]
  },
  {
   "cell_type": "code",
   "execution_count": 78,
   "metadata": {},
   "outputs": [
    {
     "data": {
      "image/png": "[encoded data removed]",
      "text/plain": [
       "<Figure size 1080x360 with 1 Axes>"
      ]
     },
     "metadata": {
      "needs_background": "light"
     },
     "output_type": "display_data"
    }
   ],
   "source": [
    "plt.figure(figsize=(15,5))\n",
    "sns.countplot(x='Stay',hue='Ward_Type',data=X,palette='Greens_r')\n",
    "plt.show()"
   ]
  },
  {
   "cell_type": "code",
   "execution_count": 79,
   "metadata": {},
   "outputs": [
    {
     "data": {
      "image/png": "[encoded data removed]",
      "text/plain": [
       "<Figure size 1080x360 with 1 Axes>"
      ]
     },
     "metadata": {
      "needs_background": "light"
     },
     "output_type": "display_data"
    }
   ],
   "source": [
    "plt.figure(figsize=(15,5))\n",
    "sns.countplot(x='Stay',hue='Ward_Facility_Code',data=X,palette='Greens_r')\n",
    "plt.show()"
   ]
  },
  {
   "cell_type": "code",
   "execution_count": 80,
   "metadata": {},
   "outputs": [
    {
     "data": {
      "image/png": "[encoded data removed]",
      "text/plain": [
       "<Figure size 1080x360 with 1 Axes>"
      ]
     },
     "metadata": {
      "needs_background": "light"
     },
     "output_type": "display_data"
    }
   ],
   "source": [
    "plt.figure(figsize=(15,5))\n",
    "sns.countplot(x='Stay',hue='Hospital_type_code',data=X,palette='Greens_r')\n",
    "plt.show()"
   ]
  },
  {
   "cell_type": "code",
   "execution_count": 120,
   "metadata": {},
   "outputs": [
    {
     "data": {
      "text/plain": [
       "Stay\n",
       "0-10                  0.824860\n",
       "11-20                 0.995457\n",
       "21-30                 1.038118\n",
       "31-40                 0.958266\n",
       "41-50                 0.960232\n",
       "51-60                 0.895682\n",
       "61-70                 0.934402\n",
       "71-80                 0.877121\n",
       "81-90                 0.782555\n",
       "91-100                0.878119\n",
       "More than 100 Days    0.816699\n",
       "Name: Admission_Deposit, dtype: float64"
      ]
     },
     "execution_count": 120,
     "metadata": {},
     "output_type": "execute_result"
    }
   ],
   "source": [
    "X['Admission_Deposit'].groupby(X['Stay']).mean()"
   ]
  },
  {
   "cell_type": "code",
   "execution_count": 121,
   "metadata": {},
   "outputs": [
    {
     "data": {
      "image/png": "[encoded data removed]",
      "text/plain": [
       "<Figure size 1080x360 with 1 Axes>"
      ]
     },
     "metadata": {
      "needs_background": "light"
     },
     "output_type": "display_data"
    }
   ],
   "source": [
    "plt.figure(figsize=(15,5))\n",
    "X['Admission_Deposit'].groupby(X['Stay']).mean().plot(kind='bar',color='g',alpha=0.6)\n",
    "plt.show()"
   ]
  },
  {
   "cell_type": "markdown",
   "metadata": {},
   "source": [
    "### Filling Null Values:"
   ]
  },
  {
   "cell_type": "markdown",
   "metadata": {},
   "source": [
    "* Filling the null values with diffrent Bed Grade modes adjecent to the category of severity of illlness.\n",
    "* This treats null values pricisely & part by part, present with in the bed grades. "
   ]
  },
  {
   "cell_type": "code",
   "execution_count": 81,
   "metadata": {
    "scrolled": false
   },
   "outputs": [
    {
     "data": {
      "text/plain": [
       "array(['Extreme', 'Moderate', 'Minor'], dtype=object)"
      ]
     },
     "execution_count": 81,
     "metadata": {},
     "output_type": "execute_result"
    }
   ],
   "source": [
    "X['Severity of Illness'].unique()"
   ]
  },
  {
   "cell_type": "code",
   "execution_count": 82,
   "metadata": {},
   "outputs": [],
   "source": [
    "#filling null values for Traning Data:\n",
    "col=['Extreme', 'Moderate', 'Minor']\n",
    "for i in col:\n",
    "    X.loc[X['Severity of Illness']==i,'Bed Grade']=X[X['Severity of Illness']==i]['Bed Grade'].fillna(X[X['Severity of Illness']==i]['Bed Grade'].dropna().mode()[0])"
   ]
  },
  {
   "cell_type": "code",
   "execution_count": 83,
   "metadata": {},
   "outputs": [],
   "source": [
    "#filling null values for Test Data:\n",
    "col=['Extreme', 'Moderate', 'Minor']\n",
    "for i in col:\n",
    "    X1.loc[X1['Severity of Illness']==i,'Bed Grade']=X1[X1['Severity of Illness']==i]['Bed Grade'].fillna(X1[X1['Severity of Illness']==i]['Bed Grade'].dropna().mode()[0])"
   ]
  },
  {
   "cell_type": "code",
   "execution_count": 84,
   "metadata": {},
   "outputs": [],
   "source": [
    "X['City_Code_Patient'].fillna(X['City_Code_Patient'].mode()[0],inplace=True)"
   ]
  },
  {
   "cell_type": "code",
   "execution_count": 85,
   "metadata": {},
   "outputs": [],
   "source": [
    "X1['City_Code_Patient'].fillna(X1['City_Code_Patient'].mode()[0],inplace=True)"
   ]
  },
  {
   "cell_type": "code",
   "execution_count": 86,
   "metadata": {},
   "outputs": [
    {
     "data": {
      "text/plain": [
       "(318438, 18)"
      ]
     },
     "execution_count": 86,
     "metadata": {},
     "output_type": "execute_result"
    }
   ],
   "source": [
    "X.shape"
   ]
  },
  {
   "cell_type": "code",
   "execution_count": 87,
   "metadata": {},
   "outputs": [
    {
     "data": {
      "text/plain": [
       "(137057, 17)"
      ]
     },
     "execution_count": 87,
     "metadata": {},
     "output_type": "execute_result"
    }
   ],
   "source": [
    "X1.shape"
   ]
  },
  {
   "cell_type": "markdown",
   "metadata": {},
   "source": [
    "### Feature Engineering:"
   ]
  },
  {
   "cell_type": "markdown",
   "metadata": {},
   "source": [
    "#### 1) Zone parameter labeling most amount of city patient codes with high,mid,low "
   ]
  },
  {
   "cell_type": "markdown",
   "metadata": {},
   "source": [
    "* For traning Data:"
   ]
  },
  {
   "cell_type": "code",
   "execution_count": 12,
   "metadata": {
    "scrolled": false
   },
   "outputs": [
    {
     "data": {
      "text/plain": [
       "8.0     124011\n",
       "2.0      38869\n",
       "1.0      26377\n",
       "7.0      23807\n",
       "5.0      20079\n",
       "4.0      15380\n",
       "9.0      11795\n",
       "15.0      8950\n",
       "10.0      8174\n",
       "6.0       6005\n",
       "12.0      5647\n",
       "3.0       3772\n",
       "23.0      3698\n",
       "14.0      2927\n",
       "16.0      2254\n",
       "13.0      1625\n",
       "21.0      1602\n",
       "20.0      1409\n",
       "18.0      1404\n",
       "19.0      1028\n",
       "26.0      1023\n",
       "25.0       798\n",
       "27.0       771\n",
       "11.0       658\n",
       "28.0       521\n",
       "22.0       405\n",
       "24.0       360\n",
       "30.0       133\n",
       "29.0        98\n",
       "33.0        78\n",
       "31.0        59\n",
       "37.0        57\n",
       "32.0        52\n",
       "34.0        46\n",
       "35.0        16\n",
       "36.0        12\n",
       "38.0         6\n",
       "Name: City_Code_Patient, dtype: int64"
      ]
     },
     "execution_count": 12,
     "metadata": {},
     "output_type": "execute_result"
    }
   ],
   "source": [
    "X['City_Code_Patient'].value_counts()"
   ]
  },
  {
   "cell_type": "code",
   "execution_count": 90,
   "metadata": {},
   "outputs": [],
   "source": [
    "# Sorted out the Region pin codes from above with higher count.\n",
    "L1=[ 8.0,  2.0,  1.0,  7.0,  5.0,  4.0,  9.0] \n",
    "\n",
    "#Sorted out the Region pin codes with mid count remainig are lower count pins.\n",
    "L2=[ 15.0, 10.0,  6.0, 12.0,3.0, 23.0, 14.0, 16.0, 13.0, 21.0, 20.0, 18.0, 19.0, 26.0] "
   ]
  },
  {
   "cell_type": "code",
   "execution_count": 91,
   "metadata": {},
   "outputs": [],
   "source": [
    "#Flagged them accordingly to create new feature. \n",
    "def fn(x):\n",
    "    if x in L1:\n",
    "        return('High_Zone')\n",
    "    elif x in L2:\n",
    "        return('mid_Zone')\n",
    "    else:\n",
    "        return('Low_zone')"
   ]
  },
  {
   "cell_type": "code",
   "execution_count": 92,
   "metadata": {},
   "outputs": [],
   "source": [
    "#Zone is now new feature which has flagged regions with higher and lower rate of covid crowd.\n",
    "X['Zone']=X['City_Code_Patient'].apply(fn) "
   ]
  },
  {
   "cell_type": "code",
   "execution_count": 93,
   "metadata": {
    "scrolled": true
   },
   "outputs": [
    {
     "data": {
      "text/plain": [
       "0    High_Zone\n",
       "1    High_Zone\n",
       "2    High_Zone\n",
       "3    High_Zone\n",
       "4    High_Zone\n",
       "Name: Zone, dtype: object"
      ]
     },
     "execution_count": 93,
     "metadata": {},
     "output_type": "execute_result"
    }
   ],
   "source": [
    "X['Zone'].head()"
   ]
  },
  {
   "cell_type": "markdown",
   "metadata": {},
   "source": [
    "* For testing Data:"
   ]
  },
  {
   "cell_type": "code",
   "execution_count": 94,
   "metadata": {},
   "outputs": [],
   "source": [
    "L3=[8.0,  2.0,  1.0,  7.0]\n",
    "L4=[ 5.0,  4.0,  9.0, 15.0, 10.0,  6.0, 12.0,3.0, 23.0, 14.0]"
   ]
  },
  {
   "cell_type": "code",
   "execution_count": 95,
   "metadata": {},
   "outputs": [],
   "source": [
    "def fn1(x):\n",
    "    if x in L3:\n",
    "        return('High_Zone')\n",
    "    elif x in L4:\n",
    "        return('mid_Zone')\n",
    "    else:\n",
    "        return('Low_zone')"
   ]
  },
  {
   "cell_type": "code",
   "execution_count": 96,
   "metadata": {},
   "outputs": [],
   "source": [
    "X1['Zone']=X1['City_Code_Patient'].apply(fn1)"
   ]
  },
  {
   "cell_type": "code",
   "execution_count": 97,
   "metadata": {
    "scrolled": true
   },
   "outputs": [
    {
     "data": {
      "text/plain": [
       "0    High_Zone\n",
       "1    High_Zone\n",
       "2    High_Zone\n",
       "3    High_Zone\n",
       "4    High_Zone\n",
       "Name: Zone, dtype: object"
      ]
     },
     "execution_count": 97,
     "metadata": {},
     "output_type": "execute_result"
    }
   ],
   "source": [
    "X1['Zone'].head()"
   ]
  },
  {
   "cell_type": "markdown",
   "metadata": {},
   "source": [
    "#### 2) Creating Bins For Admission Deposit:"
   ]
  },
  {
   "cell_type": "code",
   "execution_count": 14,
   "metadata": {
    "scrolled": false
   },
   "outputs": [
    {
     "data": {
      "image/png": "[encoded data removed]",
      "text/plain": [
       "<Figure size 432x288 with 1 Axes>"
      ]
     },
     "metadata": {
      "needs_background": "light"
     },
     "output_type": "display_data"
    }
   ],
   "source": [
    "plt.hist(X['Admission_Deposit'],color='g',alpha=0.50)\n",
    "plt.show()"
   ]
  },
  {
   "cell_type": "markdown",
   "metadata": {},
   "source": [
    "#### For Traning data:"
   ]
  },
  {
   "cell_type": "code",
   "execution_count": 99,
   "metadata": {},
   "outputs": [],
   "source": [
    "X.loc[X['Admission_Deposit']<=4000, 'Admission_Deposit']=0\n",
    "\n",
    "X.loc[(X['Admission_Deposit']>4000) & (X['Admission_Deposit']<=6000), 'Admission_Deposit']=1\n",
    "\n",
    "X.loc[(X['Admission_Deposit']>6000) & (X['Admission_Deposit']<=8000), 'Admission_Deposit']=2\n",
    "\n",
    "X.loc[(X['Admission_Deposit']>8000) & (X['Admission_Deposit']<=11008), 'Admission_Deposit']=3"
   ]
  },
  {
   "cell_type": "code",
   "execution_count": 100,
   "metadata": {
    "scrolled": true
   },
   "outputs": [
    {
     "data": {
      "text/plain": [
       "1.0    218104\n",
       "0.0     58458\n",
       "2.0     36924\n",
       "3.0      4952\n",
       "Name: Admission_Deposit, dtype: int64"
      ]
     },
     "execution_count": 100,
     "metadata": {},
     "output_type": "execute_result"
    }
   ],
   "source": [
    "X['Admission_Deposit'].value_counts() #Train"
   ]
  },
  {
   "cell_type": "markdown",
   "metadata": {},
   "source": [
    "#### For Testing Data:"
   ]
  },
  {
   "cell_type": "code",
   "execution_count": 101,
   "metadata": {},
   "outputs": [],
   "source": [
    "X1.loc[X1['Admission_Deposit']<=4000, 'Admission_Deposit']=0\n",
    "\n",
    "X1.loc[(X1['Admission_Deposit']>4000) & (X1['Admission_Deposit']<=6000), 'Admission_Deposit']=1\n",
    "\n",
    "X1.loc[(X1['Admission_Deposit']>6000) & (X1['Admission_Deposit']<=8000), 'Admission_Deposit']=2\n",
    "\n",
    "X1.loc[(X1['Admission_Deposit']>8000) & (X1['Admission_Deposit']<=11920), 'Admission_Deposit']=3"
   ]
  },
  {
   "cell_type": "code",
   "execution_count": 102,
   "metadata": {
    "scrolled": false
   },
   "outputs": [
    {
     "data": {
      "text/plain": [
       "3.0"
      ]
     },
     "execution_count": 102,
     "metadata": {},
     "output_type": "execute_result"
    }
   ],
   "source": [
    "X1['Admission_Deposit'].max() #Test"
   ]
  },
  {
   "cell_type": "markdown",
   "metadata": {},
   "source": [
    "### LabelEncoding:"
   ]
  },
  {
   "cell_type": "code",
   "execution_count": 103,
   "metadata": {},
   "outputs": [],
   "source": [
    "from sklearn.preprocessing import LabelEncoder #Traning\n",
    "col=['Hospital_region_code','Zone','Hospital_type_code','Department','Ward_Type','Ward_Facility_Code','Type of Admission','Severity of Illness','Age']\n",
    "le=LabelEncoder()\n",
    "for i in col:\n",
    "    X[i]=le.fit_transform(X[i])"
   ]
  },
  {
   "cell_type": "code",
   "execution_count": 104,
   "metadata": {},
   "outputs": [],
   "source": [
    "from sklearn.preprocessing import LabelEncoder #Testing\n",
    "col=['Hospital_region_code','Zone','Hospital_type_code','Department','Ward_Type','Ward_Facility_Code','Type of Admission','Severity of Illness','Age']\n",
    "le=LabelEncoder()\n",
    "for i in col:\n",
    "    X1[i]=le.fit_transform(X1[i])"
   ]
  },
  {
   "cell_type": "code",
   "execution_count": 105,
   "metadata": {},
   "outputs": [
    {
     "data": {
      "text/html": [
       "<div>\n",
       "<style scoped>\n",
       "    .dataframe tbody tr th:only-of-type {\n",
       "        vertical-align: middle;\n",
       "    }\n",
       "\n",
       "    .dataframe tbody tr th {\n",
       "        vertical-align: top;\n",
       "    }\n",
       "\n",
       "    .dataframe thead th {\n",
       "        text-align: right;\n",
       "    }\n",
       "</style>\n",
       "<table border=\"1\" class=\"dataframe\">\n",
       "  <thead>\n",
       "    <tr style=\"text-align: right;\">\n",
       "      <th></th>\n",
       "      <th>case_id</th>\n",
       "      <th>Hospital_code</th>\n",
       "      <th>Hospital_type_code</th>\n",
       "      <th>City_Code_Hospital</th>\n",
       "      <th>Hospital_region_code</th>\n",
       "      <th>Available Extra Rooms in Hospital</th>\n",
       "      <th>Department</th>\n",
       "      <th>Ward_Type</th>\n",
       "      <th>Ward_Facility_Code</th>\n",
       "      <th>Bed Grade</th>\n",
       "      <th>patientid</th>\n",
       "      <th>City_Code_Patient</th>\n",
       "      <th>Type of Admission</th>\n",
       "      <th>Severity of Illness</th>\n",
       "      <th>Visitors with Patient</th>\n",
       "      <th>Age</th>\n",
       "      <th>Admission_Deposit</th>\n",
       "      <th>Stay</th>\n",
       "      <th>Zone</th>\n",
       "    </tr>\n",
       "  </thead>\n",
       "  <tbody>\n",
       "    <tr>\n",
       "      <th>0</th>\n",
       "      <td>1</td>\n",
       "      <td>8</td>\n",
       "      <td>2</td>\n",
       "      <td>3</td>\n",
       "      <td>2</td>\n",
       "      <td>3</td>\n",
       "      <td>3</td>\n",
       "      <td>2</td>\n",
       "      <td>5</td>\n",
       "      <td>2.0</td>\n",
       "      <td>31397</td>\n",
       "      <td>7.0</td>\n",
       "      <td>0</td>\n",
       "      <td>0</td>\n",
       "      <td>2</td>\n",
       "      <td>5</td>\n",
       "      <td>1.0</td>\n",
       "      <td>0-10</td>\n",
       "      <td>0</td>\n",
       "    </tr>\n",
       "    <tr>\n",
       "      <th>1</th>\n",
       "      <td>2</td>\n",
       "      <td>2</td>\n",
       "      <td>2</td>\n",
       "      <td>5</td>\n",
       "      <td>2</td>\n",
       "      <td>2</td>\n",
       "      <td>3</td>\n",
       "      <td>3</td>\n",
       "      <td>5</td>\n",
       "      <td>2.0</td>\n",
       "      <td>31397</td>\n",
       "      <td>7.0</td>\n",
       "      <td>1</td>\n",
       "      <td>0</td>\n",
       "      <td>2</td>\n",
       "      <td>5</td>\n",
       "      <td>1.0</td>\n",
       "      <td>41-50</td>\n",
       "      <td>0</td>\n",
       "    </tr>\n",
       "  </tbody>\n",
       "</table>\n",
       "</div>"
      ],
      "text/plain": [
       "   case_id  Hospital_code  Hospital_type_code  City_Code_Hospital  \\\n",
       "0        1              8                   2                   3   \n",
       "1        2              2                   2                   5   \n",
       "\n",
       "   Hospital_region_code  Available Extra Rooms in Hospital  Department  \\\n",
       "0                     2                                  3           3   \n",
       "1                     2                                  2           3   \n",
       "\n",
       "   Ward_Type  Ward_Facility_Code  Bed Grade  patientid  City_Code_Patient  \\\n",
       "0          2                   5        2.0      31397                7.0   \n",
       "1          3                   5        2.0      31397                7.0   \n",
       "\n",
       "   Type of Admission  Severity of Illness  Visitors with Patient  Age  \\\n",
       "0                  0                    0                      2    5   \n",
       "1                  1                    0                      2    5   \n",
       "\n",
       "   Admission_Deposit   Stay  Zone  \n",
       "0                1.0   0-10     0  \n",
       "1                1.0  41-50     0  "
      ]
     },
     "execution_count": 105,
     "metadata": {},
     "output_type": "execute_result"
    }
   ],
   "source": [
    "X.head(2)"
   ]
  },
  {
   "cell_type": "code",
   "execution_count": 106,
   "metadata": {
    "scrolled": false
   },
   "outputs": [
    {
     "data": {
      "text/html": [
       "<div>\n",
       "<style scoped>\n",
       "    .dataframe tbody tr th:only-of-type {\n",
       "        vertical-align: middle;\n",
       "    }\n",
       "\n",
       "    .dataframe tbody tr th {\n",
       "        vertical-align: top;\n",
       "    }\n",
       "\n",
       "    .dataframe thead th {\n",
       "        text-align: right;\n",
       "    }\n",
       "</style>\n",
       "<table border=\"1\" class=\"dataframe\">\n",
       "  <thead>\n",
       "    <tr style=\"text-align: right;\">\n",
       "      <th></th>\n",
       "      <th>case_id</th>\n",
       "      <th>Hospital_code</th>\n",
       "      <th>Hospital_type_code</th>\n",
       "      <th>City_Code_Hospital</th>\n",
       "      <th>Hospital_region_code</th>\n",
       "      <th>Available Extra Rooms in Hospital</th>\n",
       "      <th>Department</th>\n",
       "      <th>Ward_Type</th>\n",
       "      <th>Ward_Facility_Code</th>\n",
       "      <th>Bed Grade</th>\n",
       "      <th>patientid</th>\n",
       "      <th>City_Code_Patient</th>\n",
       "      <th>Type of Admission</th>\n",
       "      <th>Severity of Illness</th>\n",
       "      <th>Visitors with Patient</th>\n",
       "      <th>Age</th>\n",
       "      <th>Admission_Deposit</th>\n",
       "      <th>Zone</th>\n",
       "    </tr>\n",
       "  </thead>\n",
       "  <tbody>\n",
       "    <tr>\n",
       "      <th>0</th>\n",
       "      <td>318439</td>\n",
       "      <td>21</td>\n",
       "      <td>2</td>\n",
       "      <td>3</td>\n",
       "      <td>2</td>\n",
       "      <td>3</td>\n",
       "      <td>2</td>\n",
       "      <td>3</td>\n",
       "      <td>0</td>\n",
       "      <td>2.0</td>\n",
       "      <td>17006</td>\n",
       "      <td>2.0</td>\n",
       "      <td>0</td>\n",
       "      <td>2</td>\n",
       "      <td>2</td>\n",
       "      <td>7</td>\n",
       "      <td>0.0</td>\n",
       "      <td>0</td>\n",
       "    </tr>\n",
       "    <tr>\n",
       "      <th>1</th>\n",
       "      <td>318440</td>\n",
       "      <td>29</td>\n",
       "      <td>0</td>\n",
       "      <td>4</td>\n",
       "      <td>0</td>\n",
       "      <td>2</td>\n",
       "      <td>2</td>\n",
       "      <td>3</td>\n",
       "      <td>5</td>\n",
       "      <td>2.0</td>\n",
       "      <td>17006</td>\n",
       "      <td>2.0</td>\n",
       "      <td>1</td>\n",
       "      <td>2</td>\n",
       "      <td>4</td>\n",
       "      <td>7</td>\n",
       "      <td>1.0</td>\n",
       "      <td>0</td>\n",
       "    </tr>\n",
       "  </tbody>\n",
       "</table>\n",
       "</div>"
      ],
      "text/plain": [
       "   case_id  Hospital_code  Hospital_type_code  City_Code_Hospital  \\\n",
       "0   318439             21                   2                   3   \n",
       "1   318440             29                   0                   4   \n",
       "\n",
       "   Hospital_region_code  Available Extra Rooms in Hospital  Department  \\\n",
       "0                     2                                  3           2   \n",
       "1                     0                                  2           2   \n",
       "\n",
       "   Ward_Type  Ward_Facility_Code  Bed Grade  patientid  City_Code_Patient  \\\n",
       "0          3                   0        2.0      17006                2.0   \n",
       "1          3                   5        2.0      17006                2.0   \n",
       "\n",
       "   Type of Admission  Severity of Illness  Visitors with Patient  Age  \\\n",
       "0                  0                    2                      2    7   \n",
       "1                  1                    2                      4    7   \n",
       "\n",
       "   Admission_Deposit  Zone  \n",
       "0                0.0     0  \n",
       "1                1.0     0  "
      ]
     },
     "execution_count": 106,
     "metadata": {},
     "output_type": "execute_result"
    }
   ],
   "source": [
    "X1.head(2)"
   ]
  },
  {
   "cell_type": "markdown",
   "metadata": {},
   "source": [
    "### Assinging:"
   ]
  },
  {
   "cell_type": "code",
   "execution_count": 107,
   "metadata": {
    "scrolled": true
   },
   "outputs": [
    {
     "data": {
      "text/html": [
       "<div>\n",
       "<style scoped>\n",
       "    .dataframe tbody tr th:only-of-type {\n",
       "        vertical-align: middle;\n",
       "    }\n",
       "\n",
       "    .dataframe tbody tr th {\n",
       "        vertical-align: top;\n",
       "    }\n",
       "\n",
       "    .dataframe thead th {\n",
       "        text-align: right;\n",
       "    }\n",
       "</style>\n",
       "<table border=\"1\" class=\"dataframe\">\n",
       "  <thead>\n",
       "    <tr style=\"text-align: right;\">\n",
       "      <th></th>\n",
       "      <th>Hospital_code</th>\n",
       "      <th>Hospital_type_code</th>\n",
       "      <th>City_Code_Hospital</th>\n",
       "      <th>Hospital_region_code</th>\n",
       "      <th>Available Extra Rooms in Hospital</th>\n",
       "      <th>Department</th>\n",
       "      <th>Ward_Type</th>\n",
       "      <th>Ward_Facility_Code</th>\n",
       "      <th>Bed Grade</th>\n",
       "      <th>City_Code_Patient</th>\n",
       "      <th>Type of Admission</th>\n",
       "      <th>Severity of Illness</th>\n",
       "      <th>Visitors with Patient</th>\n",
       "      <th>Age</th>\n",
       "      <th>Admission_Deposit</th>\n",
       "      <th>Zone</th>\n",
       "    </tr>\n",
       "  </thead>\n",
       "  <tbody>\n",
       "    <tr>\n",
       "      <th>0</th>\n",
       "      <td>8</td>\n",
       "      <td>2</td>\n",
       "      <td>3</td>\n",
       "      <td>2</td>\n",
       "      <td>3</td>\n",
       "      <td>3</td>\n",
       "      <td>2</td>\n",
       "      <td>5</td>\n",
       "      <td>2.0</td>\n",
       "      <td>7.0</td>\n",
       "      <td>0</td>\n",
       "      <td>0</td>\n",
       "      <td>2</td>\n",
       "      <td>5</td>\n",
       "      <td>1.0</td>\n",
       "      <td>0</td>\n",
       "    </tr>\n",
       "    <tr>\n",
       "      <th>1</th>\n",
       "      <td>2</td>\n",
       "      <td>2</td>\n",
       "      <td>5</td>\n",
       "      <td>2</td>\n",
       "      <td>2</td>\n",
       "      <td>3</td>\n",
       "      <td>3</td>\n",
       "      <td>5</td>\n",
       "      <td>2.0</td>\n",
       "      <td>7.0</td>\n",
       "      <td>1</td>\n",
       "      <td>0</td>\n",
       "      <td>2</td>\n",
       "      <td>5</td>\n",
       "      <td>1.0</td>\n",
       "      <td>0</td>\n",
       "    </tr>\n",
       "    <tr>\n",
       "      <th>2</th>\n",
       "      <td>10</td>\n",
       "      <td>4</td>\n",
       "      <td>1</td>\n",
       "      <td>0</td>\n",
       "      <td>2</td>\n",
       "      <td>1</td>\n",
       "      <td>3</td>\n",
       "      <td>4</td>\n",
       "      <td>2.0</td>\n",
       "      <td>7.0</td>\n",
       "      <td>1</td>\n",
       "      <td>0</td>\n",
       "      <td>2</td>\n",
       "      <td>5</td>\n",
       "      <td>1.0</td>\n",
       "      <td>0</td>\n",
       "    </tr>\n",
       "  </tbody>\n",
       "</table>\n",
       "</div>"
      ],
      "text/plain": [
       "   Hospital_code  Hospital_type_code  City_Code_Hospital  \\\n",
       "0              8                   2                   3   \n",
       "1              2                   2                   5   \n",
       "2             10                   4                   1   \n",
       "\n",
       "   Hospital_region_code  Available Extra Rooms in Hospital  Department  \\\n",
       "0                     2                                  3           3   \n",
       "1                     2                                  2           3   \n",
       "2                     0                                  2           1   \n",
       "\n",
       "   Ward_Type  Ward_Facility_Code  Bed Grade  City_Code_Patient  \\\n",
       "0          2                   5        2.0                7.0   \n",
       "1          3                   5        2.0                7.0   \n",
       "2          3                   4        2.0                7.0   \n",
       "\n",
       "   Type of Admission  Severity of Illness  Visitors with Patient  Age  \\\n",
       "0                  0                    0                      2    5   \n",
       "1                  1                    0                      2    5   \n",
       "2                  1                    0                      2    5   \n",
       "\n",
       "   Admission_Deposit  Zone  \n",
       "0                1.0     0  \n",
       "1                1.0     0  \n",
       "2                1.0     0  "
      ]
     },
     "execution_count": 107,
     "metadata": {},
     "output_type": "execute_result"
    }
   ],
   "source": [
    "X_train=X.drop(columns=['patientid','case_id','Stay'],axis=1)\n",
    "Y_train=X['Stay']\n",
    "X_train.head(3)"
   ]
  },
  {
   "cell_type": "code",
   "execution_count": 108,
   "metadata": {
    "scrolled": true
   },
   "outputs": [
    {
     "data": {
      "text/html": [
       "<div>\n",
       "<style scoped>\n",
       "    .dataframe tbody tr th:only-of-type {\n",
       "        vertical-align: middle;\n",
       "    }\n",
       "\n",
       "    .dataframe tbody tr th {\n",
       "        vertical-align: top;\n",
       "    }\n",
       "\n",
       "    .dataframe thead th {\n",
       "        text-align: right;\n",
       "    }\n",
       "</style>\n",
       "<table border=\"1\" class=\"dataframe\">\n",
       "  <thead>\n",
       "    <tr style=\"text-align: right;\">\n",
       "      <th></th>\n",
       "      <th>Hospital_code</th>\n",
       "      <th>Hospital_type_code</th>\n",
       "      <th>City_Code_Hospital</th>\n",
       "      <th>Hospital_region_code</th>\n",
       "      <th>Available Extra Rooms in Hospital</th>\n",
       "      <th>Department</th>\n",
       "      <th>Ward_Type</th>\n",
       "      <th>Ward_Facility_Code</th>\n",
       "      <th>Bed Grade</th>\n",
       "      <th>City_Code_Patient</th>\n",
       "      <th>Type of Admission</th>\n",
       "      <th>Severity of Illness</th>\n",
       "      <th>Visitors with Patient</th>\n",
       "      <th>Age</th>\n",
       "      <th>Admission_Deposit</th>\n",
       "      <th>Zone</th>\n",
       "    </tr>\n",
       "  </thead>\n",
       "  <tbody>\n",
       "    <tr>\n",
       "      <th>0</th>\n",
       "      <td>21</td>\n",
       "      <td>2</td>\n",
       "      <td>3</td>\n",
       "      <td>2</td>\n",
       "      <td>3</td>\n",
       "      <td>2</td>\n",
       "      <td>3</td>\n",
       "      <td>0</td>\n",
       "      <td>2.0</td>\n",
       "      <td>2.0</td>\n",
       "      <td>0</td>\n",
       "      <td>2</td>\n",
       "      <td>2</td>\n",
       "      <td>7</td>\n",
       "      <td>0.0</td>\n",
       "      <td>0</td>\n",
       "    </tr>\n",
       "    <tr>\n",
       "      <th>1</th>\n",
       "      <td>29</td>\n",
       "      <td>0</td>\n",
       "      <td>4</td>\n",
       "      <td>0</td>\n",
       "      <td>2</td>\n",
       "      <td>2</td>\n",
       "      <td>3</td>\n",
       "      <td>5</td>\n",
       "      <td>2.0</td>\n",
       "      <td>2.0</td>\n",
       "      <td>1</td>\n",
       "      <td>2</td>\n",
       "      <td>4</td>\n",
       "      <td>7</td>\n",
       "      <td>1.0</td>\n",
       "      <td>0</td>\n",
       "    </tr>\n",
       "    <tr>\n",
       "      <th>2</th>\n",
       "      <td>26</td>\n",
       "      <td>1</td>\n",
       "      <td>2</td>\n",
       "      <td>1</td>\n",
       "      <td>3</td>\n",
       "      <td>2</td>\n",
       "      <td>1</td>\n",
       "      <td>3</td>\n",
       "      <td>4.0</td>\n",
       "      <td>2.0</td>\n",
       "      <td>0</td>\n",
       "      <td>2</td>\n",
       "      <td>3</td>\n",
       "      <td>7</td>\n",
       "      <td>1.0</td>\n",
       "      <td>0</td>\n",
       "    </tr>\n",
       "  </tbody>\n",
       "</table>\n",
       "</div>"
      ],
      "text/plain": [
       "   Hospital_code  Hospital_type_code  City_Code_Hospital  \\\n",
       "0             21                   2                   3   \n",
       "1             29                   0                   4   \n",
       "2             26                   1                   2   \n",
       "\n",
       "   Hospital_region_code  Available Extra Rooms in Hospital  Department  \\\n",
       "0                     2                                  3           2   \n",
       "1                     0                                  2           2   \n",
       "2                     1                                  3           2   \n",
       "\n",
       "   Ward_Type  Ward_Facility_Code  Bed Grade  City_Code_Patient  \\\n",
       "0          3                   0        2.0                2.0   \n",
       "1          3                   5        2.0                2.0   \n",
       "2          1                   3        4.0                2.0   \n",
       "\n",
       "   Type of Admission  Severity of Illness  Visitors with Patient  Age  \\\n",
       "0                  0                    2                      2    7   \n",
       "1                  1                    2                      4    7   \n",
       "2                  0                    2                      3    7   \n",
       "\n",
       "   Admission_Deposit  Zone  \n",
       "0                0.0     0  \n",
       "1                1.0     0  \n",
       "2                1.0     0  "
      ]
     },
     "execution_count": 108,
     "metadata": {},
     "output_type": "execute_result"
    }
   ],
   "source": [
    "df_test=X1.drop(columns=['patientid','case_id'],axis=1)\n",
    "df_test.head(3)"
   ]
  },
  {
   "cell_type": "code",
   "execution_count": 109,
   "metadata": {},
   "outputs": [
    {
     "data": {
      "text/plain": [
       "(137057, 16)"
      ]
     },
     "execution_count": 109,
     "metadata": {},
     "output_type": "execute_result"
    }
   ],
   "source": [
    "df_test.shape"
   ]
  },
  {
   "cell_type": "markdown",
   "metadata": {},
   "source": [
    "### Scaling: "
   ]
  },
  {
   "cell_type": "code",
   "execution_count": 110,
   "metadata": {
    "scrolled": true
   },
   "outputs": [],
   "source": [
    "from sklearn.preprocessing import StandardScaler\n",
    "sc=StandardScaler()\n",
    "X_train=sc.fit_transform(X_train)"
   ]
  },
  {
   "cell_type": "code",
   "execution_count": 111,
   "metadata": {},
   "outputs": [],
   "source": [
    "from sklearn.preprocessing import StandardScaler\n",
    "sc=StandardScaler()\n",
    "df_test=sc.fit_transform(df_test)"
   ]
  },
  {
   "cell_type": "markdown",
   "metadata": {},
   "source": [
    "### Building the Model:"
   ]
  },
  {
   "cell_type": "code",
   "execution_count": 57,
   "metadata": {},
   "outputs": [],
   "source": [
    "from xgboost import XGBClassifier"
   ]
  },
  {
   "cell_type": "code",
   "execution_count": 58,
   "metadata": {},
   "outputs": [],
   "source": [
    "model=XGBClassifier()"
   ]
  },
  {
   "cell_type": "code",
   "execution_count": 484,
   "metadata": {},
   "outputs": [
    {
     "data": {
      "text/plain": [
       "XGBClassifier(base_score=0.5, booster='gbtree', colsample_bylevel=1,\n",
       "              colsample_bynode=1, colsample_bytree=1, gamma=0,\n",
       "              learning_rate=0.1, max_delta_step=0, max_depth=3,\n",
       "              min_child_weight=1, missing=None, n_estimators=100, n_jobs=1,\n",
       "              nthread=None, objective='multi:softprob', random_state=0,\n",
       "              reg_alpha=0, reg_lambda=1, scale_pos_weight=1, seed=None,\n",
       "              silent=None, subsample=1, verbosity=1)"
      ]
     },
     "execution_count": 484,
     "metadata": {},
     "output_type": "execute_result"
    }
   ],
   "source": [
    "model.fit(X_train,Y_train)"
   ]
  },
  {
   "cell_type": "markdown",
   "metadata": {},
   "source": [
    "#### Function for Creating Submission file:"
   ]
  },
  {
   "cell_type": "code",
   "execution_count": 112,
   "metadata": {},
   "outputs": [],
   "source": [
    "Subb=pd.read_csv('sample_submission_lfbv3c3.csv')"
   ]
  },
  {
   "cell_type": "code",
   "execution_count": 622,
   "metadata": {},
   "outputs": [],
   "source": [
    "def creat(c,v):\n",
    "    Predictor=v.predict(df_test)\n",
    "    X=pd.DataFrame(Predictor)\n",
    "    Y=pd.concat([Subb['case_id'],X],axis=1)\n",
    "    Y.columns=['case_id','Stay']\n",
    "    Y.to_csv(c,index=False)    "
   ]
  },
  {
   "cell_type": "code",
   "execution_count": 488,
   "metadata": {},
   "outputs": [],
   "source": [
    "creat('Subbb.csv',model)"
   ]
  },
  {
   "cell_type": "markdown",
   "metadata": {},
   "source": [
    "### save the model as pickle file:\n",
    "* We Dont need to train the whole model again over big data which counsumed a lot of time:"
   ]
  },
  {
   "cell_type": "code",
   "execution_count": 160,
   "metadata": {},
   "outputs": [],
   "source": [
    "import pickle \n",
    "file='Xgb_withou_optimization.pkl'\n",
    "pickle.dump(model,open(file,'wb')) ## Exporting the pickle for model in current location ."
   ]
  },
  {
   "cell_type": "code",
   "execution_count": 164,
   "metadata": {},
   "outputs": [],
   "source": [
    "import pickle\n",
    "model_pickel=pickle.load(open('Xgb_withou_optimization.pkl','rb')) ## importing the pickle from current working location."
   ]
  },
  {
   "cell_type": "markdown",
   "metadata": {},
   "source": [
    "### Random CV:"
   ]
  },
  {
   "cell_type": "code",
   "execution_count": 614,
   "metadata": {},
   "outputs": [],
   "source": [
    "from sklearn.model_selection import RandomizedSearchCV"
   ]
  },
  {
   "cell_type": "code",
   "execution_count": 615,
   "metadata": {},
   "outputs": [],
   "source": [
    "params = {\n",
    "        'min_child_weight': [1, 5, 10],\n",
    "        'gamma': [0.5, 1, 1.5, 2, 5],\n",
    "        'subsample': [0.6, 0.8, 1.0],\n",
    "        'colsample_bytree': [0.6, 0.8, 1.0],\n",
    "        'max_depth': [3, 4, 5]\n",
    "        }"
   ]
  },
  {
   "cell_type": "code",
   "execution_count": 616,
   "metadata": {},
   "outputs": [],
   "source": [
    "Classifier=XGBClassifier()"
   ]
  },
  {
   "cell_type": "code",
   "execution_count": 617,
   "metadata": {},
   "outputs": [],
   "source": [
    "XGB_rcv=RandomizedSearchCV(Classifier,param_distributions=params,n_iter=4,cv=3)"
   ]
  },
  {
   "cell_type": "code",
   "execution_count": 618,
   "metadata": {},
   "outputs": [
    {
     "data": {
      "text/plain": [
       "RandomizedSearchCV(cv=3, error_score=nan,\n",
       "                   estimator=XGBClassifier(base_score=0.5, booster='gbtree',\n",
       "                                           colsample_bylevel=1,\n",
       "                                           colsample_bynode=1,\n",
       "                                           colsample_bytree=1, gamma=0,\n",
       "                                           learning_rate=0.1, max_delta_step=0,\n",
       "                                           max_depth=3, min_child_weight=1,\n",
       "                                           missing=None, n_estimators=100,\n",
       "                                           n_jobs=1, nthread=None,\n",
       "                                           objective='binary:logistic',\n",
       "                                           random_state=0, reg_alpha=0,\n",
       "                                           reg_lambda=1, sc...s_weight=1,\n",
       "                                           seed=None, silent=None, subsample=1,\n",
       "                                           verbosity=1),\n",
       "                   iid='deprecated', n_iter=4, n_jobs=None,\n",
       "                   param_distributions={'colsample_bytree': [0.6, 0.8, 1.0],\n",
       "                                        'gamma': [0.5, 1, 1.5, 2, 5],\n",
       "                                        'max_depth': [3, 4, 5],\n",
       "                                        'min_child_weight': [1, 5, 10],\n",
       "                                        'subsample': [0.6, 0.8, 1.0]},\n",
       "                   pre_dispatch='2*n_jobs', random_state=None, refit=True,\n",
       "                   return_train_score=False, scoring=None, verbose=0)"
      ]
     },
     "execution_count": 618,
     "metadata": {},
     "output_type": "execute_result"
    }
   ],
   "source": [
    "XGB_rcv.fit(X_train,Y_train)"
   ]
  },
  {
   "cell_type": "markdown",
   "metadata": {},
   "source": [
    "* Best params:"
   ]
  },
  {
   "cell_type": "code",
   "execution_count": 619,
   "metadata": {
    "scrolled": true
   },
   "outputs": [
    {
     "data": {
      "text/plain": [
       "{'subsample': 1.0,\n",
       " 'min_child_weight': 10,\n",
       " 'max_depth': 5,\n",
       " 'gamma': 0.5,\n",
       " 'colsample_bytree': 0.6}"
      ]
     },
     "execution_count": 619,
     "metadata": {},
     "output_type": "execute_result"
    }
   ],
   "source": [
    "XGB_rcv.best_params_"
   ]
  },
  {
   "cell_type": "markdown",
   "metadata": {},
   "source": [
    "* Score:"
   ]
  },
  {
   "cell_type": "code",
   "execution_count": 620,
   "metadata": {},
   "outputs": [
    {
     "data": {
      "text/plain": [
       "41.52017033143029"
      ]
     },
     "execution_count": 620,
     "metadata": {},
     "output_type": "execute_result"
    }
   ],
   "source": [
    "XGB_rcv.best_score_*100"
   ]
  },
  {
   "cell_type": "markdown",
   "metadata": {},
   "source": [
    "* Estimators:"
   ]
  },
  {
   "cell_type": "code",
   "execution_count": 621,
   "metadata": {},
   "outputs": [
    {
     "data": {
      "text/plain": [
       "XGBClassifier(base_score=0.5, booster='gbtree', colsample_bylevel=1,\n",
       "              colsample_bynode=1, colsample_bytree=0.6, gamma=0.5,\n",
       "              learning_rate=0.1, max_delta_step=0, max_depth=5,\n",
       "              min_child_weight=10, missing=None, n_estimators=100, n_jobs=1,\n",
       "              nthread=None, objective='multi:softprob', random_state=0,\n",
       "              reg_alpha=0, reg_lambda=1, scale_pos_weight=1, seed=None,\n",
       "              silent=None, subsample=1.0, verbosity=1)"
      ]
     },
     "execution_count": 621,
     "metadata": {},
     "output_type": "execute_result"
    }
   ],
   "source": [
    "XGB_rcv.best_estimator_"
   ]
  },
  {
   "cell_type": "markdown",
   "metadata": {},
   "source": [
    "#### Recalling the function to create submission file:"
   ]
  },
  {
   "cell_type": "code",
   "execution_count": 623,
   "metadata": {},
   "outputs": [],
   "source": [
    "creat('subbb.csv',XGB_rcv)"
   ]
  }
 ],
 "metadata": {
  "kernelspec": {
   "display_name": "Python 3",
   "language": "python",
   "name": "python3"
  },
  "language_info": {
   "codemirror_mode": {
    "name": "ipython",
    "version": 3
   },
   "file_extension": ".py",
   "mimetype": "text/x-python",
   "name": "python",
   "nbconvert_exporter": "python",
   "pygments_lexer": "ipython3",
   "version": "3.7.1"
  }
 },
 "nbformat": 4,
 "nbformat_minor": 2
}
